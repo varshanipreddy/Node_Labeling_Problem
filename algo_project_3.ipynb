{
 "cells": [
  {
   "cell_type": "markdown",
   "id": "642f90f8",
   "metadata": {},
   "source": [
    "# The “Node Labeling Problem”"
   ]
  },
  {
   "cell_type": "code",
   "execution_count": 1,
   "id": "60ff8da0",
   "metadata": {},
   "outputs": [],
   "source": [
    "import numpy as np\n",
    "import queue\n",
    "from collections import deque\n",
    "import pandas as pd\n",
    "import pickle\n",
    "import sys"
   ]
  },
  {
   "cell_type": "raw",
   "id": "ca29b735",
   "metadata": {},
   "source": [
    "To run the code :\n",
    "call the function: find_labels_for_dataset(adj_data,k_data)\n",
    "adj_data = adj lists of various graphs of dataset\n",
    "k_data = k values of various graphs of dataset"
   ]
  },
  {
   "cell_type": "code",
   "execution_count": 2,
   "id": "32996dfd",
   "metadata": {},
   "outputs": [],
   "source": [
    "def node_labels_assign_optimal(adj, k_val):\n",
    "    \n",
    "    bq,vi,n_cnt,curr_l,l_list = queue.Queue(),set(),0,0,-np.ones(len(adj), dtype=int)\n",
    "    vi.add(0)\n",
    "    bq.put(0)\n",
    "    while bq.qsize() > 0:\n",
    "        node = bq.get()\n",
    "            \n",
    "        if n_cnt >= k_val:\n",
    "            gq,iv,il = queue.Queue(),set(),set()\n",
    "            gq.put(node)\n",
    "            iv.add(node)\n",
    "            while gq.qsize() > 0:\n",
    "                in_nd = gq.get()\n",
    "                il.add(in_nd) if l_list[in_nd]!=-1 else None\n",
    "                temp_il_len = len(il)\n",
    "                if k_val == temp_il_len:\n",
    "                    l_list[node] = l_list[in_nd]\n",
    "                    break\n",
    "                for i_var in adj[in_nd]:\n",
    "                    is_visited = False\n",
    "                    for v in iv:\n",
    "                        if v == i_var:\n",
    "                            is_visited = True\n",
    "                            break\n",
    "                    if not is_visited:\n",
    "                        gq.put(i_var)\n",
    "                        iv.add(i_var)\n",
    "                        \n",
    "        else:\n",
    "            l_list[node],n_cnt,curr_l = curr_l,n_cnt + 1,curr_l + 1\n",
    "            \n",
    "        for k_var in adj[node]:\n",
    "            is_visited = False\n",
    "            for v in vi:\n",
    "                if k_var == v:\n",
    "                    is_visited = True\n",
    "                    break\n",
    "            if not is_visited:\n",
    "                bq.put(k_var)\n",
    "                vi.add(k_var)\n",
    "                \n",
    "    return list(l_list)"
   ]
  },
  {
   "cell_type": "code",
   "execution_count": 3,
   "id": "4bb5f787",
   "metadata": {},
   "outputs": [],
   "source": [
    "def find_labels_for_dataset(adj_data,k_data):\n",
    "    n = len(k_data)\n",
    "    ans = []\n",
    "    for i in range(n):\n",
    "        temp_l = node_labels_assign_optimal(adj_data[i],k_data[i])\n",
    "        ans.append(temp_l)\n",
    "            \n",
    "    return ans"
   ]
  },
  {
   "cell_type": "code",
   "execution_count": 4,
   "id": "88b27fff",
   "metadata": {},
   "outputs": [],
   "source": [
    "Examples_of_AdjLists_of_Trees = pickle.load(open('Examples_of_AdjLists_of_Trees', 'rb'))\n",
    "Examples_of_k_values = pickle.load(open('Examples_of_k_values', 'rb'))\n",
    "Examples_of_labelling = pickle.load(open('Examples_of_labelling', 'rb'))\n",
    "Small_Examples_of_AdjLists_of_Trees = pickle.load(open('Small_Examples_of_AdjLists_of_Trees', 'rb'))\n",
    "Small_Examples_of_k_values = pickle.load(open('Small_Examples_of_k_values', 'rb'))\n",
    "Medium_Examples_of_AdjLists_of_Trees = pickle.load(open('Medium_Examples_of_AdjLists_of_Trees', 'rb'))\n",
    "Medium_Examples_of_k_values = pickle.load(open('Medium_Examples_of_k_values', 'rb'))\n",
    "Large_Examples_of_AdjLists_of_Trees = pickle.load(open('Large_Examples_of_AdjLists_of_Trees', 'rb'))\n",
    "Large_Examples_of_k_values = pickle.load(open('Large_Examples_of_k_values', 'rb'))"
   ]
  },
  {
   "cell_type": "code",
   "execution_count": 5,
   "id": "ddab2737",
   "metadata": {},
   "outputs": [],
   "source": [
    "v_s = find_labels_for_dataset(Small_Examples_of_AdjLists_of_Trees,Small_Examples_of_k_values)\n",
    "v_m = find_labels_for_dataset(Medium_Examples_of_AdjLists_of_Trees,Medium_Examples_of_k_values)\n",
    "v_l = find_labels_for_dataset(Large_Examples_of_AdjLists_of_Trees,Large_Examples_of_k_values)"
   ]
  },
  {
   "cell_type": "code",
   "execution_count": null,
   "id": "4450b4ec",
   "metadata": {},
   "outputs": [],
   "source": []
  },
  {
   "cell_type": "code",
   "execution_count": null,
   "id": "07edadbe",
   "metadata": {},
   "outputs": [],
   "source": []
  },
  {
   "cell_type": "code",
   "execution_count": null,
   "id": "7405c21b",
   "metadata": {},
   "outputs": [],
   "source": []
  },
  {
   "cell_type": "code",
   "execution_count": null,
   "id": "da85a8f7",
   "metadata": {},
   "outputs": [],
   "source": []
  },
  {
   "cell_type": "code",
   "execution_count": null,
   "id": "7288fd6c",
   "metadata": {},
   "outputs": [],
   "source": []
  }
 ],
 "metadata": {
  "kernelspec": {
   "display_name": "Python 3 (ipykernel)",
   "language": "python",
   "name": "python3"
  },
  "language_info": {
   "codemirror_mode": {
    "name": "ipython",
    "version": 3
   },
   "file_extension": ".py",
   "mimetype": "text/x-python",
   "name": "python",
   "nbconvert_exporter": "python",
   "pygments_lexer": "ipython3",
   "version": "3.9.13"
  }
 },
 "nbformat": 4,
 "nbformat_minor": 5
}
